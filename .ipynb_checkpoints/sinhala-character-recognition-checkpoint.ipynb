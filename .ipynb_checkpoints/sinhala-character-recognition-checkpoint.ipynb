{
 "cells": [
  {
   "cell_type": "code",
   "execution_count": 9,
   "id": "a3708818-d78b-4f19-85fa-e016e8f69fc8",
   "metadata": {},
   "outputs": [
    {
     "name": "stderr",
     "output_type": "stream",
     "text": [
      "C:\\Users\\Sevindu\\AppData\\Local\\Programs\\Python\\Python313\\Lib\\site-packages\\sklearn\\base.py:440: InconsistentVersionWarning: Trying to unpickle estimator KNeighborsClassifier from version 1.6.1 when using version 1.7.0. This might lead to breaking code or invalid results. Use at your own risk. For more info please refer to:\n",
      "https://scikit-learn.org/stable/model_persistence.html#security-maintainability-limitations\n",
      "  warnings.warn(\n"
     ]
    },
    {
     "name": "stdout",
     "output_type": "stream",
     "text": [
      "අ\n",
      "එ\n",
      "උ\n"
     ]
    }
   ],
   "source": [
    "import tkinter as tk\n",
    "from PIL import ImageTk,Image,ImageDraw\n",
    "import numpy as np\n",
    "import cv2\n",
    "import random\n",
    "import joblib\n",
    "\n",
    "model= joblib.load('sinhala-character-knn.sav')\n",
    "\n",
    "width= 500\n",
    "height = 500\n",
    "\n",
    "font_btn='Helvetica 20 bold'\n",
    "\n",
    "win = tk.Tk()\n",
    "win.title(\"Sinhala Character Recognition\")\n",
    "p1 = tk.PhotoImage(file = 'icon.png')\n",
    "win.iconphoto(False, p1)\n",
    "\n",
    "canvas=tk.Canvas(win,width=width,height=height,bg='white')\n",
    "canvas.grid(row=0,column=0,columnspan=4)\n",
    "\n",
    "letter_map={\n",
    "    0 : 'අ',\n",
    "    1 : 'එ',\n",
    "    2 : 'ඉ',\n",
    "    3 : 'උ' }\n",
    "\n",
    "def img_save():\n",
    "    img_arr=np.array(img)\n",
    "    img_name= \"images/img\"+str(random.randint(0,1000))+\".png\"\n",
    "    cv2.imwrite(img_name,img_arr)\n",
    "    print(\"image saved\")\n",
    "    \n",
    "def img_clear():\n",
    "    global img,img_draw\n",
    "    canvas.delete('all')\n",
    "    label_status.config(text='Predicted Charecter : ')\n",
    "    img=Image.new('RGB',(width,height),(255,255,255))\n",
    "    img_draw=ImageDraw.Draw(img)\n",
    "\n",
    "def predict():\n",
    "    img_arr=np.array(img)\n",
    "    img_arr=cv2.cvtColor(img_arr,cv2.COLOR_BGR2GRAY)\n",
    "    img_arr=cv2.resize(img_arr,(8,8))\n",
    "    img_arr=np.reshape(img_arr,(1,64))\n",
    "\n",
    "    result=model.predict(img_arr)\n",
    "    sinhala_letter =letter_map[result[0]]\n",
    "    label_status.config(text='Predicted Charecter : '+ sinhala_letter)\n",
    "    print(letter_map[result[0]])\n",
    "\n",
    "def draw( event ):\n",
    "    x1, y1, x2, y2 = ( event.x - 20 ),( event.y - 20 ), ( event.x + 20 ),( event.y + 20 ) \n",
    "    canvas.create_oval( x1, y1, x2, \n",
    "                  y2, fill = 'black' )\n",
    "    img_draw.ellipse((x1, y1, x2, \n",
    "                  y2), fill = 'black')\n",
    "\n",
    "button_save=tk.Button(win,text='SAVE',bg='green',fg='white',font=font_btn,command=img_save)\n",
    "button_save.grid(row=1,column=0)\n",
    "\n",
    "button_predict=tk.Button(win,text='PREDICT',bg='blue',fg='white',font=font_btn,command=predict)\n",
    "button_predict.grid(row=1,column=1)\n",
    "\n",
    "button_clear=tk.Button(win,text='CLEAR',bg='yellow',fg='white',font=font_btn,command=img_clear)\n",
    "button_clear.grid(row=1,column=2)\n",
    "\n",
    "button_exit=tk.Button(win,text='exit',bg='red',fg='white',font=font_btn,command=win.destroy)\n",
    "button_exit.grid(row=1,column=3)\n",
    "\n",
    "label_status=tk.Label(win,text='Predicted Charecter : ',bg='white',font=font_btn)\n",
    "label_status.grid(row=2,column=0,columnspan=4)\n",
    "\n",
    "canvas.bind( \"<B1-Motion>\", draw )\n",
    "img= Image.new('RGB',(width,height),(255,255,255))\n",
    "img_draw=ImageDraw.Draw(img)\n",
    "\n",
    "\n",
    "win.mainloop()"
   ]
  },
  {
   "cell_type": "code",
   "execution_count": null,
   "id": "e0190e9e-2924-4d6f-a6ba-8c0d5d9b762f",
   "metadata": {},
   "outputs": [],
   "source": []
  }
 ],
 "metadata": {
  "kernelspec": {
   "display_name": "Python 3 (ipykernel)",
   "language": "python",
   "name": "python3"
  },
  "language_info": {
   "codemirror_mode": {
    "name": "ipython",
    "version": 3
   },
   "file_extension": ".py",
   "mimetype": "text/x-python",
   "name": "python",
   "nbconvert_exporter": "python",
   "pygments_lexer": "ipython3",
   "version": "3.13.3"
  }
 },
 "nbformat": 4,
 "nbformat_minor": 5
}
